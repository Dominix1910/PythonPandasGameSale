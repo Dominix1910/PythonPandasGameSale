{
 "cells": [
  {
   "cell_type": "markdown",
   "id": "60d82f24-b2ee-4e84-a755-dabe81211662",
   "metadata": {
    "panel-layout": {
     "height": -10,
     "visible": true,
     "width": 100
    }
   },
   "source": [
    "# Analysis list of PC games relesead between 1983 to 2021\n",
    "\n",
    "Dataset available from here: https://www.kaggle.com/datasets/amoghrrao2/video-games-list/data"
   ]
  },
  {
   "cell_type": "markdown",
   "id": "b24a9a32-7648-4175-8d32-f3bb91e492a5",
   "metadata": {
    "panel-layout": {
     "height": -10,
     "visible": true,
     "width": 100
    }
   },
   "source": [
    "## Importing Libraries"
   ]
  },
  {
   "cell_type": "raw",
   "id": "62acc41f-a8a5-4731-8a0f-036501357adc",
   "metadata": {},
   "source": [
    "First we need to import libraries and dataset"
   ]
  },
  {
   "cell_type": "code",
   "execution_count": 2,
   "id": "859d045d-b3f9-4ab0-922e-b57ab1ce6b19",
   "metadata": {},
   "outputs": [],
   "source": [
    "import numpy as np\n",
    "import pandas as pd\n",
    "import matplotlib.pyplot as plt\n",
    "import seaborn as sns"
   ]
  },
  {
   "cell_type": "markdown",
   "id": "5fcfb553-1383-485a-a18d-fe0aeed3c92d",
   "metadata": {
    "panel-layout": {
     "height": -10,
     "visible": true,
     "width": 100
    }
   },
   "source": [
    "List of games for windows can help new developers have better understanding of PC game market."
   ]
  },
  {
   "cell_type": "code",
   "execution_count": 8,
   "id": "ee5368ce-e93e-4959-b279-68ab6f3742f6",
   "metadata": {},
   "outputs": [],
   "source": [
    "data = pd.read_csv(\"Windows_Games_List.csv\")"
   ]
  },
  {
   "cell_type": "markdown",
   "id": "95478a6b-2728-405f-90fd-403c057e0566",
   "metadata": {
    "panel-layout": {
     "height": -10,
     "visible": true,
     "width": 100
    }
   },
   "source": [
    "## Analysis of our dataset"
   ]
  },
  {
   "cell_type": "raw",
   "id": "a0054d78-6cf3-44d2-bbb7-0b1cfe284867",
   "metadata": {},
   "source": [
    "We will take a look at:\n",
    "1) Which Publisher has released most titles\n",
    "2) Which developer has create most titles\n",
    "3) What year had most titles released\n",
    "4) What genre is most popular \n",
    "5) Why year 2007 has most sales? \n"
   ]
  },
  {
   "cell_type": "markdown",
   "id": "1d69c87e-b7fe-41c4-a969-e0bd8c46ff0c",
   "metadata": {
    "panel-layout": {
     "height": -10,
     "visible": true,
     "width": 100
    }
   },
   "source": [
    "## Take a look of the dataset"
   ]
  },
  {
   "cell_type": "code",
   "execution_count": 10,
   "id": "77242f54-0baf-4077-afb9-cdb9c89e079e",
   "metadata": {
    "panel-layout": {
     "height": -10,
     "visible": true,
     "width": 100
    }
   },
   "outputs": [
    {
     "data": {
      "text/html": [
       "<style type=\"text/css\">\n",
       "#T_42d47_row0_col0, #T_42d47_row0_col1, #T_42d47_row0_col2, #T_42d47_row0_col3, #T_42d47_row0_col4, #T_42d47_row1_col0, #T_42d47_row1_col1, #T_42d47_row1_col2, #T_42d47_row1_col3, #T_42d47_row1_col4, #T_42d47_row2_col0, #T_42d47_row2_col1, #T_42d47_row2_col2, #T_42d47_row2_col3, #T_42d47_row2_col4, #T_42d47_row3_col0, #T_42d47_row3_col1, #T_42d47_row3_col2, #T_42d47_row3_col3, #T_42d47_row3_col4, #T_42d47_row4_col0, #T_42d47_row4_col1, #T_42d47_row4_col2, #T_42d47_row4_col3, #T_42d47_row4_col4 {\n",
       "  background-color: #2a9d8f;\n",
       "  color: white;\n",
       "  border: 1.5px  solid black;\n",
       "}\n",
       "</style>\n",
       "<table id=\"T_42d47\">\n",
       "  <thead>\n",
       "    <tr>\n",
       "      <th class=\"blank level0\" >&nbsp;</th>\n",
       "      <th id=\"T_42d47_level0_col0\" class=\"col_heading level0 col0\" >titles</th>\n",
       "      <th id=\"T_42d47_level0_col1\" class=\"col_heading level0 col1\" >released</th>\n",
       "      <th id=\"T_42d47_level0_col2\" class=\"col_heading level0 col2\" >developers</th>\n",
       "      <th id=\"T_42d47_level0_col3\" class=\"col_heading level0 col3\" >publishers</th>\n",
       "      <th id=\"T_42d47_level0_col4\" class=\"col_heading level0 col4\" >genres</th>\n",
       "    </tr>\n",
       "  </thead>\n",
       "  <tbody>\n",
       "    <tr>\n",
       "      <th id=\"T_42d47_level0_row0\" class=\"row_heading level0 row0\" >0</th>\n",
       "      <td id=\"T_42d47_row0_col0\" class=\"data row0 col0\" >101 Dalmatians: Escape from DeVil Manor</td>\n",
       "      <td id=\"T_42d47_row0_col1\" class=\"data row0 col1\" >1999</td>\n",
       "      <td id=\"T_42d47_row0_col2\" class=\"data row0 col2\" >DreamForge Intertainment</td>\n",
       "      <td id=\"T_42d47_row0_col3\" class=\"data row0 col3\" >Disney Interactive</td>\n",
       "      <td id=\"T_42d47_row0_col4\" class=\"data row0 col4\" >Puzzle, Strategy, Adventure</td>\n",
       "    </tr>\n",
       "    <tr>\n",
       "      <th id=\"T_42d47_level0_row1\" class=\"row_heading level0 row1\" >1</th>\n",
       "      <td id=\"T_42d47_row1_col0\" class=\"data row1 col0\" >102 Dalmatians: Puppies to the Rescue</td>\n",
       "      <td id=\"T_42d47_row1_col1\" class=\"data row1 col1\" >2000</td>\n",
       "      <td id=\"T_42d47_row1_col2\" class=\"data row1 col2\" >Crystal Dynamics</td>\n",
       "      <td id=\"T_42d47_row1_col3\" class=\"data row1 col3\" >Eidos Interactive</td>\n",
       "      <td id=\"T_42d47_row1_col4\" class=\"data row1 col4\" >Platform, Adventure</td>\n",
       "    </tr>\n",
       "    <tr>\n",
       "      <th id=\"T_42d47_level0_row2\" class=\"row_heading level0 row2\" >2</th>\n",
       "      <td id=\"T_42d47_row2_col0\" class=\"data row2 col0\" >140</td>\n",
       "      <td id=\"T_42d47_row2_col1\" class=\"data row2 col1\" >2016</td>\n",
       "      <td id=\"T_42d47_row2_col2\" class=\"data row2 col2\" >Double Fine Productions</td>\n",
       "      <td id=\"T_42d47_row2_col3\" class=\"data row2 col3\" >Abstraction Games</td>\n",
       "      <td id=\"T_42d47_row2_col4\" class=\"data row2 col4\" >Music, Platform, Puzzle, Strategy, Indie</td>\n",
       "    </tr>\n",
       "    <tr>\n",
       "      <th id=\"T_42d47_level0_row3\" class=\"row_heading level0 row3\" >3</th>\n",
       "      <td id=\"T_42d47_row3_col0\" class=\"data row3 col0\" >1001 Spikes</td>\n",
       "      <td id=\"T_42d47_row3_col1\" class=\"data row3 col1\" >2014</td>\n",
       "      <td id=\"T_42d47_row3_col2\" class=\"data row3 col2\" >8bits Fanatics</td>\n",
       "      <td id=\"T_42d47_row3_col3\" class=\"data row3 col3\" >Nicalis</td>\n",
       "      <td id=\"T_42d47_row3_col4\" class=\"data row3 col4\" >Platform, Adventure, Indie</td>\n",
       "    </tr>\n",
       "    <tr>\n",
       "      <th id=\"T_42d47_level0_row4\" class=\"row_heading level0 row4\" >4</th>\n",
       "      <td id=\"T_42d47_row4_col0\" class=\"data row4 col0\" >The 11th Hour</td>\n",
       "      <td id=\"T_42d47_row4_col1\" class=\"data row4 col1\" >1995</td>\n",
       "      <td id=\"T_42d47_row4_col2\" class=\"data row4 col2\" >Trilobyte</td>\n",
       "      <td id=\"T_42d47_row4_col3\" class=\"data row4 col3\" >Virgin Interactive</td>\n",
       "      <td id=\"T_42d47_row4_col4\" class=\"data row4 col4\" >Point-and-click, Puzzle, Adventure</td>\n",
       "    </tr>\n",
       "  </tbody>\n",
       "</table>\n"
      ],
      "text/plain": [
       "<pandas.io.formats.style.Styler at 0x229ebd6d6a0>"
      ]
     },
     "execution_count": 10,
     "metadata": {},
     "output_type": "execute_result"
    }
   ],
   "source": [
    "data.head().style.set_properties(**{\"background-color\": \"#2a9d8f\",\"color\":\"white\",\"border\": \"1.5px  solid black\"})"
   ]
  },
  {
   "cell_type": "code",
   "execution_count": 12,
   "id": "6da9196e-df32-4d83-acfa-752fc3c9c413",
   "metadata": {
    "panel-layout": {
     "height": -10,
     "visible": true,
     "width": 100
    }
   },
   "outputs": [
    {
     "name": "stdout",
     "output_type": "stream",
     "text": [
      "<class 'pandas.core.frame.DataFrame'>\n",
      "RangeIndex: 3817 entries, 0 to 3816\n",
      "Data columns (total 5 columns):\n",
      " #   Column      Non-Null Count  Dtype \n",
      "---  ------      --------------  ----- \n",
      " 0   titles      3817 non-null   object\n",
      " 1   released    3817 non-null   object\n",
      " 2   developers  3813 non-null   object\n",
      " 3   publishers  3749 non-null   object\n",
      " 4   genres      3817 non-null   object\n",
      "dtypes: object(5)\n",
      "memory usage: 149.2+ KB\n"
     ]
    }
   ],
   "source": [
    "data.info()"
   ]
  },
  {
   "cell_type": "raw",
   "id": "39a5a029-8d28-45bc-a1dc-9ec0334c7a7a",
   "metadata": {},
   "source": [
    "Dataset looks ok, we need to change column released to integer and delete any empty rows."
   ]
  },
  {
   "cell_type": "markdown",
   "id": "94d4187f-e498-4899-9320-2b1499d269d3",
   "metadata": {
    "panel-layout": {
     "height": -10,
     "visible": true,
     "width": 100
    }
   },
   "source": [
    "## Cleaning Data"
   ]
  },
  {
   "cell_type": "raw",
   "id": "b2aa9874-2304-463a-b84a-01d13fcd63fe",
   "metadata": {},
   "source": [
    "First I want to see why column released has data type \"Object\""
   ]
  },
  {
   "cell_type": "code",
   "execution_count": 14,
   "id": "b6b36379-d51f-40a9-a2bd-31932e9e02ca",
   "metadata": {
    "panel-layout": {
     "height": -10,
     "visible": true,
     "width": 100
    }
   },
   "outputs": [
    {
     "data": {
      "text/plain": [
       "array(['1999', '2000', '2016', '2014', '1995', '2008', '2007', '1997',\n",
       "       '2002', '2006', '2018', '2001', '2005', '1993', '1996', '2011',\n",
       "       '2010', '2012', '1998', '2015', '2003', '2013', '2009', '2019',\n",
       "       '2004', '1994', '2017', '2020', 'TBA', '2021', '1992', '1983',\n",
       "       '2022', '1990'], dtype=object)"
      ]
     },
     "execution_count": 14,
     "metadata": {},
     "output_type": "execute_result"
    }
   ],
   "source": [
    "data[\"released\"].unique()\n"
   ]
  },
  {
   "cell_type": "raw",
   "id": "78a89374-1a66-40a4-9de8-75534e601f87",
   "metadata": {},
   "source": [
    "So we have value \"TBA\" which we need to delete."
   ]
  },
  {
   "cell_type": "code",
   "execution_count": 16,
   "id": "1a575d0b-6743-4cec-bbf4-ddd2a5355df7",
   "metadata": {},
   "outputs": [],
   "source": [
    "data = data.drop(data[data.released == 'TBA'].index)"
   ]
  },
  {
   "cell_type": "code",
   "execution_count": 18,
   "id": "f56611bb-0b9a-4bc3-811d-8c14985db0c4",
   "metadata": {
    "panel-layout": {
     "height": -10,
     "visible": true,
     "width": 100
    }
   },
   "outputs": [
    {
     "data": {
      "text/plain": [
       "array(['1999', '2000', '2016', '2014', '1995', '2008', '2007', '1997',\n",
       "       '2002', '2006', '2018', '2001', '2005', '1993', '1996', '2011',\n",
       "       '2010', '2012', '1998', '2015', '2003', '2013', '2009', '2019',\n",
       "       '2004', '1994', '2017', '2020', '2021', '1992', '1983', '2022',\n",
       "       '1990'], dtype=object)"
      ]
     },
     "execution_count": 18,
     "metadata": {},
     "output_type": "execute_result"
    }
   ],
   "source": [
    "data[\"released\"].unique()\n"
   ]
  },
  {
   "cell_type": "raw",
   "id": "8abea44e-9b8e-4d6b-b6e3-d69367c2fe54",
   "metadata": {},
   "source": [
    "Now we want to change data type to integer"
   ]
  },
  {
   "cell_type": "code",
   "execution_count": 20,
   "id": "2143682c-6f05-4e2a-9443-1ea465ba7631",
   "metadata": {},
   "outputs": [],
   "source": [
    "data['released'] = pd.to_numeric(data['released'])"
   ]
  },
  {
   "cell_type": "raw",
   "id": "46ab30af-cb56-44fe-9f39-79a85b57a7cd",
   "metadata": {},
   "source": [
    "Now we want to clear dataset from \"null\" values"
   ]
  },
  {
   "cell_type": "code",
   "execution_count": 22,
   "id": "a9f526c1-007e-4ffd-9054-fa59d6819181",
   "metadata": {
    "panel-layout": {
     "height": -10,
     "visible": true,
     "width": 100
    }
   },
   "outputs": [
    {
     "name": "stdout",
     "output_type": "stream",
     "text": [
      "Null values of the dataset :\n"
     ]
    },
    {
     "data": {
      "text/html": [
       "<style type=\"text/css\">\n",
       "#T_5accb_row0_col0, #T_5accb_row0_col1, #T_5accb_row0_col2, #T_5accb_row0_col3, #T_5accb_row0_col4 {\n",
       "  background-color: #2a5d8f;\n",
       "  color: white;\n",
       "  border: 1.5px  solid black;\n",
       "}\n",
       "</style>\n",
       "<table id=\"T_5accb\">\n",
       "  <thead>\n",
       "    <tr>\n",
       "      <th class=\"blank level0\" >&nbsp;</th>\n",
       "      <th id=\"T_5accb_level0_col0\" class=\"col_heading level0 col0\" >titles</th>\n",
       "      <th id=\"T_5accb_level0_col1\" class=\"col_heading level0 col1\" >released</th>\n",
       "      <th id=\"T_5accb_level0_col2\" class=\"col_heading level0 col2\" >developers</th>\n",
       "      <th id=\"T_5accb_level0_col3\" class=\"col_heading level0 col3\" >publishers</th>\n",
       "      <th id=\"T_5accb_level0_col4\" class=\"col_heading level0 col4\" >genres</th>\n",
       "    </tr>\n",
       "  </thead>\n",
       "  <tbody>\n",
       "    <tr>\n",
       "      <th id=\"T_5accb_level0_row0\" class=\"row_heading level0 row0\" >0</th>\n",
       "      <td id=\"T_5accb_row0_col0\" class=\"data row0 col0\" >0</td>\n",
       "      <td id=\"T_5accb_row0_col1\" class=\"data row0 col1\" >0</td>\n",
       "      <td id=\"T_5accb_row0_col2\" class=\"data row0 col2\" >4</td>\n",
       "      <td id=\"T_5accb_row0_col3\" class=\"data row0 col3\" >68</td>\n",
       "      <td id=\"T_5accb_row0_col4\" class=\"data row0 col4\" >0</td>\n",
       "    </tr>\n",
       "  </tbody>\n",
       "</table>\n"
      ],
      "text/plain": [
       "<pandas.io.formats.style.Styler at 0x229e6bec800>"
      ]
     },
     "execution_count": 22,
     "metadata": {},
     "output_type": "execute_result"
    }
   ],
   "source": [
    "print(\"Null values of the dataset :\")\n",
    "data.isnull().sum().to_frame().T.style.set_properties(**{\"background-color\": \"#2a5d8f\",\"color\":\"white\",\"border\": \"1.5px  solid black\"})"
   ]
  },
  {
   "cell_type": "markdown",
   "id": "086d3a7a-fedb-490c-959e-9d36b32924f3",
   "metadata": {
    "panel-layout": {
     "height": -10,
     "visible": true,
     "width": 100
    }
   },
   "source": [
    "As we can see Developers has 4 rows with null values and publishers has 68\n"
   ]
  },
  {
   "cell_type": "markdown",
   "id": "7047d63d-2911-42f8-a76e-fb3e426b09ec",
   "metadata": {
    "panel-layout": {
     "height": -10,
     "visible": true,
     "width": 100
    }
   },
   "source": [
    "Lets clear any null rows in our dataset"
   ]
  },
  {
   "cell_type": "code",
   "execution_count": 24,
   "id": "f7fc6f1f-117b-43f9-9b21-fdb1ea08313f",
   "metadata": {},
   "outputs": [],
   "source": [
    "data = data.dropna(how='any',axis=0)\n"
   ]
  },
  {
   "cell_type": "markdown",
   "id": "2a235838-6775-4f97-afac-b448b04c9e59",
   "metadata": {
    "panel-layout": {
     "height": -10,
     "visible": true,
     "width": 100
    }
   },
   "source": [
    "After clearing we have no null values in the dataset"
   ]
  },
  {
   "cell_type": "code",
   "execution_count": 26,
   "id": "6a0a45af-9871-423e-899e-f9a32ce9f493",
   "metadata": {
    "panel-layout": {
     "height": -10,
     "visible": true,
     "width": 100
    }
   },
   "outputs": [
    {
     "name": "stdout",
     "output_type": "stream",
     "text": [
      "Null values of the dataset :\n"
     ]
    },
    {
     "data": {
      "text/html": [
       "<style type=\"text/css\">\n",
       "#T_e2445_row0_col0, #T_e2445_row0_col1, #T_e2445_row0_col2, #T_e2445_row0_col3, #T_e2445_row0_col4 {\n",
       "  background-color: #2a5d8f;\n",
       "  color: white;\n",
       "  border: 1.5px  solid black;\n",
       "}\n",
       "</style>\n",
       "<table id=\"T_e2445\">\n",
       "  <thead>\n",
       "    <tr>\n",
       "      <th class=\"blank level0\" >&nbsp;</th>\n",
       "      <th id=\"T_e2445_level0_col0\" class=\"col_heading level0 col0\" >titles</th>\n",
       "      <th id=\"T_e2445_level0_col1\" class=\"col_heading level0 col1\" >released</th>\n",
       "      <th id=\"T_e2445_level0_col2\" class=\"col_heading level0 col2\" >developers</th>\n",
       "      <th id=\"T_e2445_level0_col3\" class=\"col_heading level0 col3\" >publishers</th>\n",
       "      <th id=\"T_e2445_level0_col4\" class=\"col_heading level0 col4\" >genres</th>\n",
       "    </tr>\n",
       "  </thead>\n",
       "  <tbody>\n",
       "    <tr>\n",
       "      <th id=\"T_e2445_level0_row0\" class=\"row_heading level0 row0\" >0</th>\n",
       "      <td id=\"T_e2445_row0_col0\" class=\"data row0 col0\" >0</td>\n",
       "      <td id=\"T_e2445_row0_col1\" class=\"data row0 col1\" >0</td>\n",
       "      <td id=\"T_e2445_row0_col2\" class=\"data row0 col2\" >0</td>\n",
       "      <td id=\"T_e2445_row0_col3\" class=\"data row0 col3\" >0</td>\n",
       "      <td id=\"T_e2445_row0_col4\" class=\"data row0 col4\" >0</td>\n",
       "    </tr>\n",
       "  </tbody>\n",
       "</table>\n"
      ],
      "text/plain": [
       "<pandas.io.formats.style.Styler at 0x229e6becb60>"
      ]
     },
     "execution_count": 26,
     "metadata": {},
     "output_type": "execute_result"
    }
   ],
   "source": [
    "print(\"Null values of the dataset :\")\n",
    "data.isnull().sum().to_frame().T.style.set_properties(**{\"background-color\": \"#2a5d8f\",\"color\":\"white\",\"border\": \"1.5px  solid black\"})"
   ]
  },
  {
   "cell_type": "markdown",
   "id": "9370f28c-f489-4d11-af4c-13c643c91d51",
   "metadata": {
    "panel-layout": {
     "height": -10,
     "visible": true,
     "width": 100
    }
   },
   "source": [
    "## Now we want to take look at some statistics of our dataset"
   ]
  },
  {
   "cell_type": "code",
   "execution_count": 28,
   "id": "fca60a88-446d-4c56-bf37-f88e487ba528",
   "metadata": {
    "panel-layout": {
     "height": -10,
     "visible": true,
     "width": 100
    }
   },
   "outputs": [
    {
     "data": {
      "text/html": [
       "<div>\n",
       "<style scoped>\n",
       "    .dataframe tbody tr th:only-of-type {\n",
       "        vertical-align: middle;\n",
       "    }\n",
       "\n",
       "    .dataframe tbody tr th {\n",
       "        vertical-align: top;\n",
       "    }\n",
       "\n",
       "    .dataframe thead th {\n",
       "        text-align: right;\n",
       "    }\n",
       "</style>\n",
       "<table border=\"1\" class=\"dataframe\">\n",
       "  <thead>\n",
       "    <tr style=\"text-align: right;\">\n",
       "      <th></th>\n",
       "      <th>released</th>\n",
       "    </tr>\n",
       "  </thead>\n",
       "  <tbody>\n",
       "    <tr>\n",
       "      <th>count</th>\n",
       "      <td>3744.000000</td>\n",
       "    </tr>\n",
       "    <tr>\n",
       "      <th>mean</th>\n",
       "      <td>2004.038996</td>\n",
       "    </tr>\n",
       "    <tr>\n",
       "      <th>std</th>\n",
       "      <td>5.772013</td>\n",
       "    </tr>\n",
       "    <tr>\n",
       "      <th>min</th>\n",
       "      <td>1983.000000</td>\n",
       "    </tr>\n",
       "    <tr>\n",
       "      <th>25%</th>\n",
       "      <td>2000.000000</td>\n",
       "    </tr>\n",
       "    <tr>\n",
       "      <th>50%</th>\n",
       "      <td>2004.000000</td>\n",
       "    </tr>\n",
       "    <tr>\n",
       "      <th>75%</th>\n",
       "      <td>2007.000000</td>\n",
       "    </tr>\n",
       "    <tr>\n",
       "      <th>max</th>\n",
       "      <td>2022.000000</td>\n",
       "    </tr>\n",
       "  </tbody>\n",
       "</table>\n",
       "</div>"
      ],
      "text/plain": [
       "          released\n",
       "count  3744.000000\n",
       "mean   2004.038996\n",
       "std       5.772013\n",
       "min    1983.000000\n",
       "25%    2000.000000\n",
       "50%    2004.000000\n",
       "75%    2007.000000\n",
       "max    2022.000000"
      ]
     },
     "execution_count": 28,
     "metadata": {},
     "output_type": "execute_result"
    }
   ],
   "source": [
    "data.describe()"
   ]
  },
  {
   "cell_type": "code",
   "execution_count": 30,
   "id": "49626adf-ec95-4b3e-b38a-3a8f2131b69f",
   "metadata": {
    "panel-layout": {
     "height": -10,
     "visible": true,
     "width": 100
    }
   },
   "outputs": [
    {
     "name": "stdout",
     "output_type": "stream",
     "text": [
      "<class 'pandas.core.frame.DataFrame'>\n",
      "Index: 3744 entries, 0 to 3816\n",
      "Data columns (total 5 columns):\n",
      " #   Column      Non-Null Count  Dtype \n",
      "---  ------      --------------  ----- \n",
      " 0   titles      3744 non-null   object\n",
      " 1   released    3744 non-null   int64 \n",
      " 2   developers  3744 non-null   object\n",
      " 3   publishers  3744 non-null   object\n",
      " 4   genres      3744 non-null   object\n",
      "dtypes: int64(1), object(4)\n",
      "memory usage: 175.5+ KB\n"
     ]
    }
   ],
   "source": [
    "data.info()"
   ]
  },
  {
   "cell_type": "markdown",
   "id": "7b422171-1dd8-4fbf-9b45-94a38dde533c",
   "metadata": {
    "panel-layout": {
     "height": -10,
     "visible": true,
     "width": 100
    }
   },
   "source": [
    "## Visualisations"
   ]
  },
  {
   "cell_type": "raw",
   "id": "b6e27550-2dc4-4654-aa6a-dedb61c8d11b",
   "metadata": {},
   "source": [
    "Lets check which publishers has most titles released"
   ]
  },
  {
   "cell_type": "code",
   "execution_count": 32,
   "id": "361ca783-0ca3-47a4-af78-20284a2aaad7",
   "metadata": {
    "panel-layout": {
     "height": -10,
     "visible": true,
     "width": 100
    }
   },
   "outputs": [
    {
     "name": "stdout",
     "output_type": "stream",
     "text": [
      "Entries for each publishers :\n"
     ]
    },
    {
     "data": {
      "text/html": [
       "<div>\n",
       "<style scoped>\n",
       "    .dataframe tbody tr th:only-of-type {\n",
       "        vertical-align: middle;\n",
       "    }\n",
       "\n",
       "    .dataframe tbody tr th {\n",
       "        vertical-align: top;\n",
       "    }\n",
       "\n",
       "    .dataframe thead th {\n",
       "        text-align: right;\n",
       "    }\n",
       "</style>\n",
       "<table border=\"1\" class=\"dataframe\">\n",
       "  <thead>\n",
       "    <tr style=\"text-align: right;\">\n",
       "      <th></th>\n",
       "      <th>count</th>\n",
       "    </tr>\n",
       "    <tr>\n",
       "      <th>publishers</th>\n",
       "      <th></th>\n",
       "    </tr>\n",
       "  </thead>\n",
       "  <tbody>\n",
       "    <tr>\n",
       "      <th>Electronic Arts</th>\n",
       "      <td>187</td>\n",
       "    </tr>\n",
       "    <tr>\n",
       "      <th>Ubisoft</th>\n",
       "      <td>132</td>\n",
       "    </tr>\n",
       "    <tr>\n",
       "      <th>Activision</th>\n",
       "      <td>122</td>\n",
       "    </tr>\n",
       "    <tr>\n",
       "      <th>Sega</th>\n",
       "      <td>82</td>\n",
       "    </tr>\n",
       "    <tr>\n",
       "      <th>Eidos Interactive</th>\n",
       "      <td>79</td>\n",
       "    </tr>\n",
       "    <tr>\n",
       "      <th>...</th>\n",
       "      <td>...</td>\n",
       "    </tr>\n",
       "    <tr>\n",
       "      <th>Empire Interactive, Feral Interactive</th>\n",
       "      <td>1</td>\n",
       "    </tr>\n",
       "    <tr>\n",
       "      <th>SeithCG</th>\n",
       "      <td>1</td>\n",
       "    </tr>\n",
       "    <tr>\n",
       "      <th>Mad Dog Games</th>\n",
       "      <td>1</td>\n",
       "    </tr>\n",
       "    <tr>\n",
       "      <th>Chronic Logic, Valve, Stardock</th>\n",
       "      <td>1</td>\n",
       "    </tr>\n",
       "    <tr>\n",
       "      <th>Oberon Media</th>\n",
       "      <td>1</td>\n",
       "    </tr>\n",
       "  </tbody>\n",
       "</table>\n",
       "<p>1203 rows × 1 columns</p>\n",
       "</div>"
      ],
      "text/plain": [
       "                                       count\n",
       "publishers                                  \n",
       "Electronic Arts                          187\n",
       "Ubisoft                                  132\n",
       "Activision                               122\n",
       "Sega                                      82\n",
       "Eidos Interactive                         79\n",
       "...                                      ...\n",
       "Empire Interactive, Feral Interactive      1\n",
       "SeithCG                                    1\n",
       "Mad Dog Games                              1\n",
       "Chronic Logic, Valve, Stardock             1\n",
       "Oberon Media                               1\n",
       "\n",
       "[1203 rows x 1 columns]"
      ]
     },
     "execution_count": 32,
     "metadata": {},
     "output_type": "execute_result"
    }
   ],
   "source": [
    "print(\"Entries for each publishers :\")\n",
    "data[\"publishers\"].value_counts().to_frame()"
   ]
  },
  {
   "cell_type": "markdown",
   "id": "32308650-a211-4a39-b22f-2c457a2859a1",
   "metadata": {
    "panel-layout": {
     "height": -10,
     "visible": true,
     "width": 100
    }
   },
   "source": [
    "## Top 10 Publishers"
   ]
  },
  {
   "cell_type": "code",
   "execution_count": 34,
   "id": "c94611c2-11f6-4cb8-b354-03774783fd81",
   "metadata": {
    "panel-layout": {
     "height": -10,
     "visible": true,
     "width": 100
    }
   },
   "outputs": [
    {
     "data": {
      "text/plain": [
       "<Axes: xlabel='publishers'>"
      ]
     },
     "execution_count": 34,
     "metadata": {},
     "output_type": "execute_result"
    },
    {
     "data": {
      "image/png": "[encoded data removed]",
      "text/plain": [
       "<Figure size 640x480 with 1 Axes>"
      ]
     },
     "metadata": {},
     "output_type": "display_data"
    }
   ],
   "source": [
    "top10 = (data['publishers'].value_counts()).iloc[:10]\n",
    "top10.plot(kind='bar')"
   ]
  },
  {
   "cell_type": "markdown",
   "id": "7617fa26-9502-4342-abfa-2a291a918ae6",
   "metadata": {
    "panel-layout": {
     "height": -10,
     "visible": true,
     "width": 100
    }
   },
   "source": [
    "As we can see Electronic Arts has most titles released, following by Ubisoft and Activision."
   ]
  },
  {
   "cell_type": "code",
   "execution_count": null,
   "id": "647229ca-67b8-4b6c-ab1a-f6d0228c4fce",
   "metadata": {},
   "outputs": [],
   "source": [
    "Now we want to check, which developer has most games created."
   ]
  },
  {
   "cell_type": "code",
   "execution_count": 36,
   "id": "1535c742-65f6-42d8-851d-3f638f68b499",
   "metadata": {
    "panel-layout": {
     "height": -10,
     "visible": true,
     "width": 100
    }
   },
   "outputs": [
    {
     "name": "stdout",
     "output_type": "stream",
     "text": [
      "Entries for each developers :\n"
     ]
    },
    {
     "data": {
      "text/html": [
       "<div>\n",
       "<style scoped>\n",
       "    .dataframe tbody tr th:only-of-type {\n",
       "        vertical-align: middle;\n",
       "    }\n",
       "\n",
       "    .dataframe tbody tr th {\n",
       "        vertical-align: top;\n",
       "    }\n",
       "\n",
       "    .dataframe thead th {\n",
       "        text-align: right;\n",
       "    }\n",
       "</style>\n",
       "<table border=\"1\" class=\"dataframe\">\n",
       "  <thead>\n",
       "    <tr style=\"text-align: right;\">\n",
       "      <th></th>\n",
       "      <th>count</th>\n",
       "    </tr>\n",
       "    <tr>\n",
       "      <th>developers</th>\n",
       "      <th></th>\n",
       "    </tr>\n",
       "  </thead>\n",
       "  <tbody>\n",
       "    <tr>\n",
       "      <th>EA Canada</th>\n",
       "      <td>46</td>\n",
       "    </tr>\n",
       "    <tr>\n",
       "      <th>Maxis</th>\n",
       "      <td>30</td>\n",
       "    </tr>\n",
       "    <tr>\n",
       "      <th>Humongous Entertainment</th>\n",
       "      <td>25</td>\n",
       "    </tr>\n",
       "    <tr>\n",
       "      <th>Ubisoft Montreal</th>\n",
       "      <td>23</td>\n",
       "    </tr>\n",
       "    <tr>\n",
       "      <th>Her Interactive</th>\n",
       "      <td>21</td>\n",
       "    </tr>\n",
       "    <tr>\n",
       "      <th>...</th>\n",
       "      <td>...</td>\n",
       "    </tr>\n",
       "    <tr>\n",
       "      <th>Game Arts</th>\n",
       "      <td>1</td>\n",
       "    </tr>\n",
       "    <tr>\n",
       "      <th>Carbon Studio</th>\n",
       "      <td>1</td>\n",
       "    </tr>\n",
       "    <tr>\n",
       "      <th>Sigma Team</th>\n",
       "      <td>1</td>\n",
       "    </tr>\n",
       "    <tr>\n",
       "      <th>Edward Grabowski Communications Ltd</th>\n",
       "      <td>1</td>\n",
       "    </tr>\n",
       "    <tr>\n",
       "      <th>Enlight Software</th>\n",
       "      <td>1</td>\n",
       "    </tr>\n",
       "  </tbody>\n",
       "</table>\n",
       "<p>1750 rows × 1 columns</p>\n",
       "</div>"
      ],
      "text/plain": [
       "                                     count\n",
       "developers                                \n",
       "EA Canada                               46\n",
       "Maxis                                   30\n",
       "Humongous Entertainment                 25\n",
       "Ubisoft Montreal                        23\n",
       "Her Interactive                         21\n",
       "...                                    ...\n",
       "Game Arts                                1\n",
       "Carbon Studio                            1\n",
       "Sigma Team                               1\n",
       "Edward Grabowski Communications Ltd      1\n",
       "Enlight Software                         1\n",
       "\n",
       "[1750 rows x 1 columns]"
      ]
     },
     "execution_count": 36,
     "metadata": {},
     "output_type": "execute_result"
    }
   ],
   "source": [
    "print(\"Entries for each developers :\")\n",
    "data[\"developers\"].value_counts().to_frame()"
   ]
  },
  {
   "cell_type": "markdown",
   "id": "5654266b-01cb-4d50-8c31-eff64c3f66f3",
   "metadata": {},
   "source": [
    "## Top 10 Developers"
   ]
  },
  {
   "cell_type": "code",
   "execution_count": 38,
   "id": "c2524934-896e-444b-b53c-93a504a32a67",
   "metadata": {},
   "outputs": [
    {
     "data": {
      "text/plain": [
       "<Axes: xlabel='developers'>"
      ]
     },
     "execution_count": 38,
     "metadata": {},
     "output_type": "execute_result"
    },
    {
     "data": {
      "image/png": "[encoded data removed]",
      "text/plain": [
       "<Figure size 640x480 with 1 Axes>"
      ]
     },
     "metadata": {},
     "output_type": "display_data"
    }
   ],
   "source": [
    "top10 = (data['developers'].value_counts()).iloc[:10]\n",
    "top10.plot(kind='bar')"
   ]
  },
  {
   "cell_type": "code",
   "execution_count": null,
   "id": "a73afda5-328a-44b7-99b5-87e52ccd9699",
   "metadata": {},
   "outputs": [],
   "source": [
    "EA Canada hast most games created."
   ]
  },
  {
   "cell_type": "markdown",
   "id": "84226f8e-9126-4d20-8dc0-4d8e5eb2f8aa",
   "metadata": {},
   "source": [
    "## What year had most games released"
   ]
  },
  {
   "cell_type": "code",
   "execution_count": 40,
   "id": "d2acc1e5-eed1-4480-bf3a-0058a94c9102",
   "metadata": {},
   "outputs": [
    {
     "data": {
      "text/plain": [
       "<Axes: xlabel='released'>"
      ]
     },
     "execution_count": 40,
     "metadata": {},
     "output_type": "execute_result"
    },
    {
     "data": {
      "image/png": "[encoded data removed]",
      "text/plain": [
       "<Figure size 640x480 with 1 Axes>"
      ]
     },
     "metadata": {},
     "output_type": "display_data"
    }
   ],
   "source": [
    "top10 = (data['released'].value_counts()).iloc[:10]\n",
    "top10.plot(kind='bar')"
   ]
  },
  {
   "cell_type": "code",
   "execution_count": 42,
   "id": "8358da09-bb6b-4d81-9870-696c9cbce9c5",
   "metadata": {},
   "outputs": [
    {
     "name": "stdout",
     "output_type": "stream",
     "text": [
      "Entries for each developers :\n"
     ]
    },
    {
     "data": {
      "text/html": [
       "<div>\n",
       "<style scoped>\n",
       "    .dataframe tbody tr th:only-of-type {\n",
       "        vertical-align: middle;\n",
       "    }\n",
       "\n",
       "    .dataframe tbody tr th {\n",
       "        vertical-align: top;\n",
       "    }\n",
       "\n",
       "    .dataframe thead th {\n",
       "        text-align: right;\n",
       "    }\n",
       "</style>\n",
       "<table border=\"1\" class=\"dataframe\">\n",
       "  <thead>\n",
       "    <tr style=\"text-align: right;\">\n",
       "      <th></th>\n",
       "      <th>count</th>\n",
       "    </tr>\n",
       "    <tr>\n",
       "      <th>released</th>\n",
       "      <th></th>\n",
       "    </tr>\n",
       "  </thead>\n",
       "  <tbody>\n",
       "    <tr>\n",
       "      <th>2007</th>\n",
       "      <td>272</td>\n",
       "    </tr>\n",
       "    <tr>\n",
       "      <th>2006</th>\n",
       "      <td>261</td>\n",
       "    </tr>\n",
       "    <tr>\n",
       "      <th>2003</th>\n",
       "      <td>257</td>\n",
       "    </tr>\n",
       "    <tr>\n",
       "      <th>2005</th>\n",
       "      <td>254</td>\n",
       "    </tr>\n",
       "    <tr>\n",
       "      <th>2004</th>\n",
       "      <td>228</td>\n",
       "    </tr>\n",
       "    <tr>\n",
       "      <th>2008</th>\n",
       "      <td>224</td>\n",
       "    </tr>\n",
       "    <tr>\n",
       "      <th>2001</th>\n",
       "      <td>222</td>\n",
       "    </tr>\n",
       "    <tr>\n",
       "      <th>1998</th>\n",
       "      <td>214</td>\n",
       "    </tr>\n",
       "    <tr>\n",
       "      <th>1999</th>\n",
       "      <td>213</td>\n",
       "    </tr>\n",
       "    <tr>\n",
       "      <th>2002</th>\n",
       "      <td>213</td>\n",
       "    </tr>\n",
       "  </tbody>\n",
       "</table>\n",
       "</div>"
      ],
      "text/plain": [
       "          count\n",
       "released       \n",
       "2007        272\n",
       "2006        261\n",
       "2003        257\n",
       "2005        254\n",
       "2004        228\n",
       "2008        224\n",
       "2001        222\n",
       "1998        214\n",
       "1999        213\n",
       "2002        213"
      ]
     },
     "execution_count": 42,
     "metadata": {},
     "output_type": "execute_result"
    }
   ],
   "source": [
    "print(\"Entries for each developers :\")\n",
    "data[\"released\"].value_counts().to_frame().iloc[:10]"
   ]
  },
  {
   "cell_type": "markdown",
   "id": "d3ce8d2f-97fe-4c01-8074-f7d8da5c56b8",
   "metadata": {},
   "source": [
    "As we can see, in 2007 we had 272 releases on PC"
   ]
  },
  {
   "cell_type": "markdown",
   "id": "3605e115-a9ed-49ad-9108-bcb9a2eebb13",
   "metadata": {},
   "source": [
    "## Most popular genre\n"
   ]
  },
  {
   "cell_type": "code",
   "execution_count": null,
   "id": "972676d4-d8e8-47f0-a5e9-74a2bc192787",
   "metadata": {},
   "outputs": [],
   "source": [
    "Let list top 20 most popular game genres"
   ]
  },
  {
   "cell_type": "code",
   "execution_count": 44,
   "id": "5494d785-d5f5-487d-9543-5cd32dce64f4",
   "metadata": {},
   "outputs": [
    {
     "name": "stdout",
     "output_type": "stream",
     "text": [
      "Entries for each genres :\n"
     ]
    },
    {
     "data": {
      "text/html": [
       "<div>\n",
       "<style scoped>\n",
       "    .dataframe tbody tr th:only-of-type {\n",
       "        vertical-align: middle;\n",
       "    }\n",
       "\n",
       "    .dataframe tbody tr th {\n",
       "        vertical-align: top;\n",
       "    }\n",
       "\n",
       "    .dataframe thead th {\n",
       "        text-align: right;\n",
       "    }\n",
       "</style>\n",
       "<table border=\"1\" class=\"dataframe\">\n",
       "  <thead>\n",
       "    <tr style=\"text-align: right;\">\n",
       "      <th></th>\n",
       "      <th>count</th>\n",
       "    </tr>\n",
       "    <tr>\n",
       "      <th>genres</th>\n",
       "      <th></th>\n",
       "    </tr>\n",
       "  </thead>\n",
       "  <tbody>\n",
       "    <tr>\n",
       "      <th>Shooter</th>\n",
       "      <td>280</td>\n",
       "    </tr>\n",
       "    <tr>\n",
       "      <th>Adventure</th>\n",
       "      <td>265</td>\n",
       "    </tr>\n",
       "    <tr>\n",
       "      <th>Sport</th>\n",
       "      <td>178</td>\n",
       "    </tr>\n",
       "    <tr>\n",
       "      <th>Simulator</th>\n",
       "      <td>151</td>\n",
       "    </tr>\n",
       "    <tr>\n",
       "      <th>Strategy</th>\n",
       "      <td>147</td>\n",
       "    </tr>\n",
       "    <tr>\n",
       "      <th>Racing</th>\n",
       "      <td>138</td>\n",
       "    </tr>\n",
       "    <tr>\n",
       "      <th>Role-playing (RPG)</th>\n",
       "      <td>129</td>\n",
       "    </tr>\n",
       "    <tr>\n",
       "      <th>Simulator, Strategy</th>\n",
       "      <td>124</td>\n",
       "    </tr>\n",
       "    <tr>\n",
       "      <th>Real Time Strategy (RTS), Strategy</th>\n",
       "      <td>121</td>\n",
       "    </tr>\n",
       "    <tr>\n",
       "      <th>Role-playing (RPG), Adventure</th>\n",
       "      <td>86</td>\n",
       "    </tr>\n",
       "    <tr>\n",
       "      <th>Simulator, Sport</th>\n",
       "      <td>80</td>\n",
       "    </tr>\n",
       "    <tr>\n",
       "      <th>Point-and-click, Adventure</th>\n",
       "      <td>75</td>\n",
       "    </tr>\n",
       "    <tr>\n",
       "      <th>Shooter, Adventure</th>\n",
       "      <td>66</td>\n",
       "    </tr>\n",
       "    <tr>\n",
       "      <th>Puzzle</th>\n",
       "      <td>61</td>\n",
       "    </tr>\n",
       "    <tr>\n",
       "      <th>Platform, Adventure</th>\n",
       "      <td>58</td>\n",
       "    </tr>\n",
       "    <tr>\n",
       "      <th>Puzzle, Adventure</th>\n",
       "      <td>52</td>\n",
       "    </tr>\n",
       "    <tr>\n",
       "      <th>Platform</th>\n",
       "      <td>49</td>\n",
       "    </tr>\n",
       "    <tr>\n",
       "      <th>Point-and-click, Puzzle, Adventure</th>\n",
       "      <td>48</td>\n",
       "    </tr>\n",
       "    <tr>\n",
       "      <th>Real Time Strategy (RTS), Simulator, Strategy</th>\n",
       "      <td>47</td>\n",
       "    </tr>\n",
       "    <tr>\n",
       "      <th>Indie</th>\n",
       "      <td>46</td>\n",
       "    </tr>\n",
       "  </tbody>\n",
       "</table>\n",
       "</div>"
      ],
      "text/plain": [
       "                                               count\n",
       "genres                                              \n",
       "Shooter                                          280\n",
       "Adventure                                        265\n",
       "Sport                                            178\n",
       "Simulator                                        151\n",
       "Strategy                                         147\n",
       "Racing                                           138\n",
       "Role-playing (RPG)                               129\n",
       "Simulator, Strategy                              124\n",
       "Real Time Strategy (RTS), Strategy               121\n",
       "Role-playing (RPG), Adventure                     86\n",
       "Simulator, Sport                                  80\n",
       "Point-and-click, Adventure                        75\n",
       "Shooter, Adventure                                66\n",
       "Puzzle                                            61\n",
       "Platform, Adventure                               58\n",
       "Puzzle, Adventure                                 52\n",
       "Platform                                          49\n",
       "Point-and-click, Puzzle, Adventure                48\n",
       "Real Time Strategy (RTS), Simulator, Strategy     47\n",
       "Indie                                             46"
      ]
     },
     "execution_count": 44,
     "metadata": {},
     "output_type": "execute_result"
    }
   ],
   "source": [
    "print(\"Entries for each genres :\")\n",
    "data[\"genres\"].value_counts().to_frame().iloc[:20]"
   ]
  },
  {
   "cell_type": "code",
   "execution_count": null,
   "id": "9e57aefb-0a0b-41af-8162-e37c4099e6d5",
   "metadata": {},
   "outputs": [],
   "source": [
    "Now let see a chart showing top 10 most popular game genres."
   ]
  },
  {
   "cell_type": "code",
   "execution_count": 46,
   "id": "cf70abbc-1e07-4e11-bf1d-83be403d7f1f",
   "metadata": {},
   "outputs": [
    {
     "data": {
      "text/plain": [
       "<Axes: xlabel='genres'>"
      ]
     },
     "execution_count": 46,
     "metadata": {},
     "output_type": "execute_result"
    },
    {
     "data": {
      "image/png": "[encoded data removed]",
      "text/plain": [
       "<Figure size 640x480 with 1 Axes>"
      ]
     },
     "metadata": {},
     "output_type": "display_data"
    }
   ],
   "source": [
    "top10 = (data['genres'].value_counts()).iloc[:10]\n",
    "top10.plot(kind='bar')"
   ]
  },
  {
   "cell_type": "markdown",
   "id": "d0b3981a-9bd0-4e6a-b4d7-8d5ebbee610e",
   "metadata": {},
   "source": [
    "\"Shooter\" is the most popular genre on PC"
   ]
  },
  {
   "cell_type": "code",
   "execution_count": 152,
   "id": "868d98b1-b8fd-46fd-96fe-1fde14c88420",
   "metadata": {},
   "outputs": [],
   "source": [
    "### Why year 2007 has most releases "
   ]
  },
  {
   "cell_type": "markdown",
   "id": "751ccd65-bbb7-4ea2-8688-c3e0f7e823e8",
   "metadata": {},
   "source": [
    "First I want to see data that include only most popular genre, \"Shooter\""
   ]
  },
  {
   "cell_type": "code",
   "execution_count": 48,
   "id": "19f96c7d-da2e-465a-982d-22490e5c67f4",
   "metadata": {},
   "outputs": [],
   "source": [
    "data_copy = data.copy()\n"
   ]
  },
  {
   "cell_type": "code",
   "execution_count": 136,
   "id": "7bd4c53d-caa3-4495-94a5-79987eaded9c",
   "metadata": {
    "scrolled": true
   },
   "outputs": [
    {
     "data": {
      "text/html": [
       "<div>\n",
       "<style scoped>\n",
       "    .dataframe tbody tr th:only-of-type {\n",
       "        vertical-align: middle;\n",
       "    }\n",
       "\n",
       "    .dataframe tbody tr th {\n",
       "        vertical-align: top;\n",
       "    }\n",
       "\n",
       "    .dataframe thead th {\n",
       "        text-align: right;\n",
       "    }\n",
       "</style>\n",
       "<table border=\"1\" class=\"dataframe\">\n",
       "  <thead>\n",
       "    <tr style=\"text-align: right;\">\n",
       "      <th></th>\n",
       "      <th>titles</th>\n",
       "      <th>released</th>\n",
       "      <th>developers</th>\n",
       "      <th>publishers</th>\n",
       "      <th>genres</th>\n",
       "    </tr>\n",
       "  </thead>\n",
       "  <tbody>\n",
       "    <tr>\n",
       "      <th>10</th>\n",
       "      <td>25 To Life</td>\n",
       "      <td>2006</td>\n",
       "      <td>Avalanche Software</td>\n",
       "      <td>Eidos Interactive</td>\n",
       "      <td>Shooter</td>\n",
       "    </tr>\n",
       "    <tr>\n",
       "      <th>32</th>\n",
       "      <td>Aces of the Galaxy</td>\n",
       "      <td>2008</td>\n",
       "      <td>Artech Studios</td>\n",
       "      <td>Sierra Online</td>\n",
       "      <td>Shooter</td>\n",
       "    </tr>\n",
       "    <tr>\n",
       "      <th>98</th>\n",
       "      <td>Aliens versus Predator</td>\n",
       "      <td>1999</td>\n",
       "      <td>Rebellion Developments</td>\n",
       "      <td>Sierra Entertainment, Fox Interactive</td>\n",
       "      <td>Shooter</td>\n",
       "    </tr>\n",
       "    <tr>\n",
       "      <th>99</th>\n",
       "      <td>Aliens versus Predator 2</td>\n",
       "      <td>2001</td>\n",
       "      <td>Third Law Entertainment</td>\n",
       "      <td>Sierra Entertainment</td>\n",
       "      <td>Shooter</td>\n",
       "    </tr>\n",
       "    <tr>\n",
       "      <th>100</th>\n",
       "      <td>Aliens versus Predator Classic 2000</td>\n",
       "      <td>2010</td>\n",
       "      <td>Rebellion Developments</td>\n",
       "      <td>Rebellion Developments</td>\n",
       "      <td>Shooter</td>\n",
       "    </tr>\n",
       "    <tr>\n",
       "      <th>...</th>\n",
       "      <td>...</td>\n",
       "      <td>...</td>\n",
       "      <td>...</td>\n",
       "      <td>...</td>\n",
       "      <td>...</td>\n",
       "    </tr>\n",
       "    <tr>\n",
       "      <th>3699</th>\n",
       "      <td>Wolfenstein II: The New Colossus</td>\n",
       "      <td>2017</td>\n",
       "      <td>MachineGames</td>\n",
       "      <td>Bethesda Softworks</td>\n",
       "      <td>Shooter</td>\n",
       "    </tr>\n",
       "    <tr>\n",
       "      <th>3725</th>\n",
       "      <td>World War II Combat: Iwo Jima</td>\n",
       "      <td>2006</td>\n",
       "      <td>Direct Action Games</td>\n",
       "      <td>Groove Games</td>\n",
       "      <td>Shooter</td>\n",
       "    </tr>\n",
       "    <tr>\n",
       "      <th>3726</th>\n",
       "      <td>World War II Combat: Road to Berlin</td>\n",
       "      <td>2006</td>\n",
       "      <td>Direct Action Games</td>\n",
       "      <td>Groove Games</td>\n",
       "      <td>Shooter</td>\n",
       "    </tr>\n",
       "    <tr>\n",
       "      <th>3770</th>\n",
       "      <td>Xonotic</td>\n",
       "      <td>2010</td>\n",
       "      <td>Team Xonotic</td>\n",
       "      <td>Team Xonotic</td>\n",
       "      <td>Shooter</td>\n",
       "    </tr>\n",
       "    <tr>\n",
       "      <th>3773</th>\n",
       "      <td>Yager</td>\n",
       "      <td>2003</td>\n",
       "      <td>Yager Entertainment</td>\n",
       "      <td>Kemco, THQ</td>\n",
       "      <td>Shooter</td>\n",
       "    </tr>\n",
       "  </tbody>\n",
       "</table>\n",
       "<p>280 rows × 5 columns</p>\n",
       "</div>"
      ],
      "text/plain": [
       "                                   titles  released               developers  \\\n",
       "10                             25 To Life      2006       Avalanche Software   \n",
       "32                     Aces of the Galaxy      2008           Artech Studios   \n",
       "98                 Aliens versus Predator      1999   Rebellion Developments   \n",
       "99               Aliens versus Predator 2      2001  Third Law Entertainment   \n",
       "100   Aliens versus Predator Classic 2000      2010   Rebellion Developments   \n",
       "...                                   ...       ...                      ...   \n",
       "3699     Wolfenstein II: The New Colossus      2017             MachineGames   \n",
       "3725        World War II Combat: Iwo Jima      2006      Direct Action Games   \n",
       "3726  World War II Combat: Road to Berlin      2006      Direct Action Games   \n",
       "3770                              Xonotic      2010             Team Xonotic   \n",
       "3773                                Yager      2003      Yager Entertainment   \n",
       "\n",
       "                                 publishers   genres  \n",
       "10                        Eidos Interactive  Shooter  \n",
       "32                            Sierra Online  Shooter  \n",
       "98    Sierra Entertainment, Fox Interactive  Shooter  \n",
       "99                     Sierra Entertainment  Shooter  \n",
       "100                  Rebellion Developments  Shooter  \n",
       "...                                     ...      ...  \n",
       "3699                     Bethesda Softworks  Shooter  \n",
       "3725                           Groove Games  Shooter  \n",
       "3726                           Groove Games  Shooter  \n",
       "3770                           Team Xonotic  Shooter  \n",
       "3773                             Kemco, THQ  Shooter  \n",
       "\n",
       "[280 rows x 5 columns]"
      ]
     },
     "execution_count": 136,
     "metadata": {},
     "output_type": "execute_result"
    }
   ],
   "source": [
    "data_copy = data[data['genres'] == 'Shooter']\n",
    "data_copy"
   ]
  },
  {
   "cell_type": "markdown",
   "id": "5f1b29d7-3527-4077-aad5-c63dfabda36f",
   "metadata": {},
   "source": [
    "Now I want to check, what developers are most popular with this genre."
   ]
  },
  {
   "cell_type": "code",
   "execution_count": 138,
   "id": "780df236-ac49-4b8c-a4b8-59d965b630f1",
   "metadata": {},
   "outputs": [
    {
     "data": {
      "text/plain": [
       "<Axes: xlabel='developers'>"
      ]
     },
     "execution_count": 138,
     "metadata": {},
     "output_type": "execute_result"
    },
    {
     "data": {
      "image/png": "[encoded data removed]",
      "text/plain": [
       "<Figure size 640x480 with 1 Axes>"
      ]
     },
     "metadata": {},
     "output_type": "display_data"
    }
   ],
   "source": [
    "top10 = (data_copy['developers'].value_counts()).iloc[:10]\n",
    "top10.plot(kind='bar')"
   ]
  },
  {
   "cell_type": "markdown",
   "id": "1b072786-1dc0-4098-957b-875c5b6c82e7",
   "metadata": {},
   "source": [
    "As we can see, \"EA Canada\" is not listed in the top 10 developers within \"Shooter\" genre despite being the most popular developer overall."
   ]
  },
  {
   "cell_type": "markdown",
   "id": "83c90637-2e3e-4803-8a04-a213566f89cb",
   "metadata": {},
   "source": [
    "Now we want to see, how many \"shooter\" games were released in 2007"
   ]
  },
  {
   "cell_type": "code",
   "execution_count": 140,
   "id": "f0e2a1ab-8859-43eb-99e4-98d405a40023",
   "metadata": {},
   "outputs": [
    {
     "data": {
      "text/plain": [
       "<Axes: ylabel='released'>"
      ]
     },
     "execution_count": 140,
     "metadata": {},
     "output_type": "execute_result"
    },
    {
     "data": {
      "image/png": "[encoded data removed]",
      "text/plain": [
       "<Figure size 640x480 with 1 Axes>"
      ]
     },
     "metadata": {},
     "output_type": "display_data"
    }
   ],
   "source": [
    "top10 = (data_copy['released'].value_counts()).iloc[:10]\n",
    "top10.plot(kind='barh')"
   ]
  },
  {
   "cell_type": "markdown",
   "id": "8378d18b-4b11-4c9f-a073-182f28fa627e",
   "metadata": {},
   "source": [
    "## Summary\n"
   ]
  },
  {
   "cell_type": "markdown",
   "id": "0943762e-26a0-4ff3-839c-bea03624e2cf",
   "metadata": {},
   "source": [
    "From our dataset we can see that Electronic Arts is the most popular publisher."
   ]
  },
  {
   "cell_type": "markdown",
   "id": "7ace1bae-a8de-4592-a29f-c4c027ae7619",
   "metadata": {},
   "source": [
    "EA Canada developer has released most games"
   ]
  },
  {
   "cell_type": "markdown",
   "id": "4db8c71f-f0ca-4630-81b0-27a69a0aa9bb",
   "metadata": {},
   "source": [
    "Shooter genre is most most popular across all games"
   ]
  },
  {
   "cell_type": "markdown",
   "id": "2576f840-b75e-4ea4-9211-1cc8746b6388",
   "metadata": {},
   "source": [
    "The year 2007 had the most titles released, and the reason for that is that shooter games had the most released that year."
   ]
  },
  {
   "cell_type": "code",
   "execution_count": null,
   "id": "4647758d-e539-47ef-92b1-1b6d4f088440",
   "metadata": {},
   "outputs": [],
   "source": []
  }
 ],
 "metadata": {
  "kernelspec": {
   "display_name": "Python 3 (ipykernel)",
   "language": "python",
   "name": "python3"
  },
  "language_info": {
   "codemirror_mode": {
    "name": "ipython",
    "version": 3
   },
   "file_extension": ".py",
   "mimetype": "text/x-python",
   "name": "python",
   "nbconvert_exporter": "python",
   "pygments_lexer": "ipython3",
   "version": "3.12.4"
  },
  "panel-cell-order": [
   "e27e3fa9-d49c-4dec-8fba-446c3a7252d4",
   "b24a9a32-7648-4175-8d32-f3bb91e492a5",
   "5fcfb553-1383-485a-a18d-fe0aeed3c92d",
   "95478a6b-2728-405f-90fd-403c057e0566",
   "1d69c87e-b7fe-41c4-a969-e0bd8c46ff0c",
   "77242f54-0baf-4077-afb9-cdb9c89e079e",
   "6da9196e-df32-4d83-acfa-752fc3c9c413",
   "94d4187f-e498-4899-9320-2b1499d269d3",
   "b6b36379-d51f-40a9-a2bd-31932e9e02ca",
   "f56611bb-0b9a-4bc3-811d-8c14985db0c4",
   "a9f526c1-007e-4ffd-9054-fa59d6819181",
   "086d3a7a-fedb-490c-959e-9d36b32924f3",
   "7047d63d-2911-42f8-a76e-fb3e426b09ec",
   "2a235838-6775-4f97-afac-b448b04c9e59",
   "6a0a45af-9871-423e-899e-f9a32ce9f493",
   "9370f28c-f489-4d11-af4c-13c643c91d51",
   "fca60a88-446d-4c56-bf37-f88e487ba528",
   "49626adf-ec95-4b3e-b38a-3a8f2131b69f",
   "7b422171-1dd8-4fbf-9b45-94a38dde533c",
   "361ca783-0ca3-47a4-af78-20284a2aaad7",
   "32308650-a211-4a39-b22f-2c457a2859a1",
   "c94611c2-11f6-4cb8-b354-03774783fd81",
   "7617fa26-9502-4342-abfa-2a291a918ae6",
   "1535c742-65f6-42d8-851d-3f638f68b499",
   "c9a060db-cfad-428c-914d-789b306d0772",
   "4b1a17d9-e614-493d-aefd-74152c68b78a"
  ]
 },
 "nbformat": 4,
 "nbformat_minor": 5
}
